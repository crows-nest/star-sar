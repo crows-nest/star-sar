{
 "cells": [
  {
   "cell_type": "code",
   "execution_count": 11,
   "metadata": {},
   "outputs": [],
   "source": [
    "from osgeo import gdal, ogr\n",
    "import sys"
   ]
  },
  {
   "cell_type": "code",
   "execution_count": 12,
   "metadata": {},
   "outputs": [
    {
     "name": "stdout",
     "output_type": "stream",
     "text": [
      "[ RASTER BAND COUNT ]:  1\n",
      "[ GETTING BAND ]:  1\n",
      "[ STATS ] =  Minimum=1472.000, Maximum=4131.000, Mean=2448.393, StdDev=616.837\n"
     ]
    }
   ],
   "source": [
    "src_ds = gdal.Open( \"n40_w106_1arc_v3.tif\" )\n",
    "if src_ds is None:\n",
    "    print('Unable to open INPUT.tif')\n",
    "    sys.exit(1)\n",
    "\n",
    "print(\"[ RASTER BAND COUNT ]: \", src_ds.RasterCount)\n",
    "for band in range( src_ds.RasterCount ):\n",
    "    band += 1\n",
    "    print(\"[ GETTING BAND ]: \", band)\n",
    "    srcband = src_ds.GetRasterBand(band)\n",
    "    if srcband is None:\n",
    "        continue\n",
    "\n",
    "    stats = srcband.GetStatistics( True, True )\n",
    "    if stats is None:\n",
    "        continue\n",
    "\n",
    "    print(\"[ STATS ] =  Minimum=%.3f, Maximum=%.3f, Mean=%.3f, StdDev=%.3f\" % ( \\\n",
    "                stats[0], stats[1], stats[2], stats[3] ))"
   ]
  },
  {
   "cell_type": "code",
   "execution_count": 18,
   "metadata": {},
   "outputs": [
    {
     "name": "stdout",
     "output_type": "stream",
     "text": [
      "[ NO DATA VALUE ] =  -32767.0\n",
      "[ MIN ] =  1472.0\n",
      "[ MAX ] =  4131.0\n",
      "[ SCALE ] =  1.0\n",
      "[ UNIT TYPE ] =  m\n"
     ]
    }
   ],
   "source": [
    "print(\"[ NO DATA VALUE ] = \", srcband.GetNoDataValue())\n",
    "print(\"[ MIN ] = \", srcband.GetMinimum())\n",
    "print(\"[ MAX ] = \", srcband.GetMaximum())\n",
    "print(\"[ SCALE ] = \", srcband.GetScale())\n",
    "print(\"[ UNIT TYPE ] = \", srcband.GetUnitType())\n",
    "ctable = srcband.GetColorTable()"
   ]
  },
  {
   "cell_type": "code",
   "execution_count": 21,
   "metadata": {},
   "outputs": [],
   "source": [
    "array = srcband.ReadAsArray()"
   ]
  },
  {
   "cell_type": "code",
   "execution_count": 28,
   "metadata": {},
   "outputs": [],
   "source": [
    "import numpy as np\n",
    "\n",
    "np_array = np.asarray(array)"
   ]
  },
  {
   "cell_type": "code",
   "execution_count": 30,
   "metadata": {},
   "outputs": [
    {
     "data": {
      "text/plain": [
       "(3601, 3601)"
      ]
     },
     "execution_count": 30,
     "metadata": {},
     "output_type": "execute_result"
    }
   ],
   "source": [
    "np_array.shape"
   ]
  },
  {
   "cell_type": "code",
   "execution_count": null,
   "metadata": {},
   "outputs": [],
   "source": []
  }
 ],
 "metadata": {
  "kernelspec": {
   "display_name": "Python 3",
   "language": "python",
   "name": "python3"
  },
  "language_info": {
   "codemirror_mode": {
    "name": "ipython",
    "version": 3
   },
   "file_extension": ".py",
   "mimetype": "text/x-python",
   "name": "python",
   "nbconvert_exporter": "python",
   "pygments_lexer": "ipython3",
   "version": "3.6.9"
  }
 },
 "nbformat": 4,
 "nbformat_minor": 2
}
